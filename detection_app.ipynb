{
 "cells": [
  {
   "cell_type": "markdown",
   "id": "3907054f",
   "metadata": {
    "cellUniqueIdByVincent": "88967"
   },
   "source": [
    "# Real-Time Object Detection App\n",
    "\n",
    "This notebook demonstrates a real-time object detection application using:\n",
    "- YOLOv8 for object detection\n",
    "- OpenCV for image processing\n",
    "- Streamlit for the web interface\n",
    "\n",
    "The app will be able to:\n",
    "1. Detect objects from webcam feed\n",
    "2. Process uploaded videos\n",
    "3. Display detection results in real-time\n",
    "\n",
    "We'll develop the core functionality here and then integrate it into a Streamlit app."
   ]
  },
  {
   "cell_type": "code",
   "execution_count": null,
   "metadata": {
    "cellUniqueIdByVincent": "551d5"
   },
   "outputs": [],
   "source": [
    "# Install required packages using uv\n",
    "!uv pip install ultralytics opencv-python streamlit ipykernel\n",
    "\n",
    "# Note: If uv is not installed, you can install it with:\n",
    "# pip install uv"
   ]
  },
  {
   "cell_type": "code",
   "execution_count": null,
   "metadata": {
    "cellUniqueIdByVincent": "3c0c3"
   },
   "outputs": [
    {
     "ename": "",
     "evalue": "",
     "output_type": "error",
     "traceback": [
      "\u001b[1;31mRunning cells with '.venv (Python 3.13.0)' requires the ipykernel package.\n",
      "\u001b[1;31mInstall 'ipykernel' into the Python environment. \n",
      "\u001b[1;31mCommand: 'c:/Users/kexma/code/ml_projects/real_time_object_detection_app/.venv/Scripts/python.exe -m pip install ipykernel -U --force-reinstall'"
     ]
    }
   ],
   "source": [
    "# Import necessary libraries\n",
    "import cv2\n",
    "import numpy as np\n",
    "from ultralytics import YOLO\n",
    "import time\n",
    "import os\n",
    "\n",
    "# For visualization\n",
    "import matplotlib.pyplot as plt\n",
    "from PIL import Image"
   ]
  },
  {
   "cell_type": "code",
   "execution_count": null,
   "metadata": {
    "cellUniqueIdByVincent": "ded52"
   },
   "outputs": [
    {
     "ename": "",
     "evalue": "",
     "output_type": "error",
     "traceback": [
      "\u001b[1;31mRunning cells with '.venv (Python 3.13.0)' requires the ipykernel package.\n",
      "\u001b[1;31mInstall 'ipykernel' into the Python environment. \n",
      "\u001b[1;31mCommand: 'c:/Users/kexma/code/ml_projects/real_time_object_detection_app/.venv/Scripts/python.exe -m pip install ipykernel -U --force-reinstall'"
     ]
    }
   ],
   "source": [
    "# Load the YOLOv8 model\n",
    "# Check if the model file exists in the current directory\n",
    "model_path = \"yolov8s.pt\"\n",
    "if not os.path.exists(model_path):\n",
    "    print(f\"Model file {model_path} not found. Downloading...\")\n",
    "    model = YOLO(\"yolov8s\")  # This will download the model if not present\n",
    "else:\n",
    "    print(f\"Loading model from {model_path}\")\n",
    "    model = YOLO(model_path)\n",
    "\n",
    "# Print model information\n",
    "print(f\"Model loaded: {model}\")"
   ]
  },
  {
   "cell_type": "code",
   "execution_count": null,
   "metadata": {
    "cellUniqueIdByVincent": "ec08b"
   },
   "outputs": [
    {
     "ename": "",
     "evalue": "",
     "output_type": "error",
     "traceback": [
      "\u001b[1;31mRunning cells with '.venv (Python 3.13.0)' requires the ipykernel package.\n",
      "\u001b[1;31mInstall 'ipykernel' into the Python environment. \n",
      "\u001b[1;31mCommand: 'c:/Users/kexma/code/ml_projects/real_time_object_detection_app/.venv/Scripts/python.exe -m pip install ipykernel -U --force-reinstall'"
     ]
    }
   ],
   "source": [
    "# Function to perform object detection on an image\n",
    "def detect_objects(image, model, conf=0.25):\n",
    "    \"\"\"\n",
    "    Perform object detection on an image using the YOLOv8 model.\n",
    "    \n",
    "    Args:\n",
    "        image: Input image (numpy array)\n",
    "        model: YOLOv8 model\n",
    "        conf: Confidence threshold (default: 0.25)\n",
    "        \n",
    "    Returns:\n",
    "        processed_img: Image with detection boxes\n",
    "        results: Detection results\n",
    "    \"\"\"\n",
    "    # Perform inference\n",
    "    results = model(image, conf=conf)\n",
    "    \n",
    "    # Process results\n",
    "    processed_img = results[0].plot()\n",
    "    \n",
    "    return processed_img, results[0]\n",
    "\n",
    "# Function to display detection results\n",
    "def display_results(results):\n",
    "    \"\"\"\n",
    "    Display detection results.\n",
    "    \n",
    "    Args:\n",
    "        results: Detection results from YOLOv8\n",
    "    \"\"\"\n",
    "    # Get detected objects\n",
    "    boxes = results.boxes.cpu().numpy()\n",
    "    \n",
    "    if len(boxes) == 0:\n",
    "        print(\"No objects detected\")\n",
    "        return\n",
    "    \n",
    "    # Display detection information\n",
    "    print(f\"Detected {len(boxes)} objects:\")\n",
    "    \n",
    "    # Get class names\n",
    "    class_names = results.names\n",
    "    \n",
    "    for i, box in enumerate(boxes):\n",
    "        cls_id = int(box.cls[0])\n",
    "        conf = box.conf[0]\n",
    "        label = class_names[cls_id]\n",
    "        \n",
    "        print(f\"{i+1}. {label}: {conf:.2f}\")"
   ]
  },
  {
   "cell_type": "code",
   "execution_count": null,
   "metadata": {
    "cellUniqueIdByVincent": "5922d"
   },
   "outputs": [],
   "source": [
    "# Function to process video stream (webcam or video file)\n",
    "def process_video(source=0, model=None, conf=0.25, display=True):\n",
    "    \"\"\"\n",
    "    Process video stream from webcam or video file and perform object detection.\n",
    "    \n",
    "    Args:\n",
    "        source: Video source (0 for webcam, or path to video file)\n",
    "        model: YOLOv8 model\n",
    "        conf: Confidence threshold\n",
    "        display: Whether to display the processed video\n",
    "        \n",
    "    Returns:\n",
    "        None\n",
    "    \"\"\"\n",
    "    if model is None:\n",
    "        print(\"Model not loaded. Please load a model first.\")\n",
    "        return\n",
    "    \n",
    "    # Open video capture\n",
    "    cap = cv2.VideoCapture(source)\n",
    "    \n",
    "    if not cap.isOpened():\n",
    "        print(f\"Error: Could not open video source {source}\")\n",
    "        return\n",
    "    \n",
    "    # Get video properties\n",
    "    width = int(cap.get(cv2.CAP_PROP_FRAME_WIDTH))\n",
    "    height = int(cap.get(cv2.CAP_PROP_FRAME_HEIGHT))\n",
    "    fps = cap.get(cv2.CAP_PROP_FPS)\n",
    "    \n",
    "    print(f\"Video properties: {width}x{height} at {fps} FPS\")\n",
    "    \n",
    "    # Process video frames\n",
    "    frame_count = 0\n",
    "    start_time = time.time()\n",
    "    \n",
    "    try:\n",
    "        while True:\n",
    "            # Read frame\n",
    "            ret, frame = cap.read()\n",
    "            \n",
    "            if not ret:\n",
    "                print(\"End of video stream\")\n",
    "                break\n",
    "            \n",
    "            # Perform object detection\n",
    "            processed_frame, results = detect_objects(frame, model, conf)\n",
    "            \n",
    "            # Calculate FPS\n",
    "            frame_count += 1\n",
    "            elapsed_time = time.time() - start_time\n",
    "            current_fps = frame_count / elapsed_time\n",
    "            \n",
    "            # Add FPS information to the frame\n",
    "            cv2.putText(processed_frame, f\"FPS: {current_fps:.2f}\", (10, 30), \n",
    "                        cv2.FONT_HERSHEY_SIMPLEX, 1, (0, 255, 0), 2)\n",
    "            \n",
    "            if display:\n",
    "                # Display the processed frame\n",
    "                cv2.imshow(\"Object Detection\", processed_frame)\n",
    "                \n",
    "                # Break loop on 'q' key press\n",
    "                if cv2.waitKey(1) & 0xFF == ord('q'):\n",
    "                    break\n",
    "    \n",
    "    finally:\n",
    "        # Release resources\n",
    "        cap.release()\n",
    "        if display:\n",
    "            cv2.destroyAllWindows()\n",
    "        \n",
    "        print(f\"Processed {frame_count} frames in {elapsed_time:.2f} seconds\")\n",
    "        print(f\"Average FPS: {frame_count / elapsed_time:.2f}\")"
   ]
  }
 ],
 "metadata": {
  "kernelspec": {
   "display_name": ".venv",
   "language": "python",
   "name": "python3"
  },
  "language_info": {
   "name": "python",
   "version": "3.13.0"
  },
  "vincent": {
   "sessionId": "e7a43c734297668bc8da0ad0_2025-05-19T06-32-35-087Z"
  }
 },
 "nbformat": 4,
 "nbformat_minor": 5
}
